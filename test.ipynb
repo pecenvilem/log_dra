{
 "cells": [
  {
   "cell_type": "code",
   "execution_count": 1,
   "id": "cfaff90c-5561-458c-a313-883f4d3a480b",
   "metadata": {},
   "outputs": [],
   "source": [
    "%load_ext autoreload\n",
    "%autoreload 2"
   ]
  },
  {
   "cell_type": "code",
   "execution_count": 2,
   "id": "1e2087ba-7315-4808-9991-8c2b2c0aeec5",
   "metadata": {},
   "outputs": [],
   "source": [
    "from geopy import Nominatim\n",
    "from pprint import pprint\n",
    "\n",
    "geolocator = Nominatim(user_agent=\"RBC locator\")"
   ]
  },
  {
   "cell_type": "code",
   "execution_count": 3,
   "id": "6101cae5-919a-40d6-a213-df0d4d6b6267",
   "metadata": {},
   "outputs": [],
   "source": [
    "from log import load_data, parse_events\n",
    "from column_names import *"
   ]
  },
  {
   "cell_type": "code",
   "execution_count": 4,
   "id": "9ff10ef3-775a-42e5-a37f-d0c2859a6887",
   "metadata": {},
   "outputs": [],
   "source": [
    "import re"
   ]
  },
  {
   "cell_type": "code",
   "execution_count": 5,
   "id": "a8ad8b98-4a4e-4119-ab0a-e963d3149c71",
   "metadata": {},
   "outputs": [],
   "source": [
    "regex = re.compile(r\"\\w+\")"
   ]
  },
  {
   "cell_type": "code",
   "execution_count": 6,
   "id": "67fdceaa-72e2-4d6e-b657-25dcd690e83e",
   "metadata": {},
   "outputs": [],
   "source": [
    "import pandas as pd"
   ]
  },
  {
   "cell_type": "code",
   "execution_count": 7,
   "id": "d0cb761f-bf0a-41ec-8831-8f8533e84278",
   "metadata": {},
   "outputs": [],
   "source": [
    "NAMES = \"names\"\n",
    "RESPONSES = \"responses\"\n",
    "SEARCHED = \"searched\""
   ]
  },
  {
   "cell_type": "code",
   "execution_count": 9,
   "id": "0ad89dd7-d7a3-473d-8379-2d70e5825d99",
   "metadata": {},
   "outputs": [
    {
     "data": {
      "text/plain": [
       "'/home/jovyan/work'"
      ]
     },
     "execution_count": 9,
     "metadata": {},
     "output_type": "execute_result"
    }
   ],
   "source": [
    "import os\n",
    "os.getcwd()"
   ]
  },
  {
   "cell_type": "code",
   "execution_count": 10,
   "id": "59461b09-9d79-4a18-a15e-6117d25fd3cd",
   "metadata": {},
   "outputs": [],
   "source": [
    "data = load_data(\"./data/20230127_Olomouc_Unicov.xlsx\")"
   ]
  },
  {
   "cell_type": "code",
   "execution_count": 32,
   "id": "c4303f09-a125-48a4-9af7-9bf0039b9060",
   "metadata": {},
   "outputs": [
    {
     "data": {
      "text/plain": [
       "0     2023-01-01\n",
       "1     2023-01-02\n",
       "2     2023-01-03\n",
       "3     2023-01-04\n",
       "4     2023-01-05\n",
       "5     2023-01-06\n",
       "6     2023-01-07\n",
       "7     2023-01-08\n",
       "8     2023-01-09\n",
       "9     2023-01-10\n",
       "10    2023-01-11\n",
       "11    2023-01-12\n",
       "12    2023-01-13\n",
       "13    2023-01-14\n",
       "14    2023-01-15\n",
       "15    2023-01-16\n",
       "16    2023-01-17\n",
       "17    2023-01-18\n",
       "18    2023-01-19\n",
       "19    2023-01-20\n",
       "20    2023-01-21\n",
       "21    2023-01-22\n",
       "22    2023-01-23\n",
       "23    2023-01-24\n",
       "24    2023-01-25\n",
       "25    2023-01-26\n",
       "26    2023-01-27\n",
       "dtype: object"
      ]
     },
     "execution_count": 32,
     "metadata": {},
     "output_type": "execute_result"
    }
   ],
   "source": [
    "%matplotlib widget\n",
    "pd.Series(data.resample(\"D\", on=TIME).groups.keys()).dt.strftime(\"%Y-%m-%d\")"
   ]
  },
  {
   "cell_type": "code",
   "execution_count": 10,
   "id": "c24e874b-b7f2-4400-8b7f-1c77fbf44ade",
   "metadata": {},
   "outputs": [],
   "source": [
    "rbc = pd.DataFrame(parse_events(data[EVENT])[RBC_NAME])"
   ]
  },
  {
   "cell_type": "code",
   "execution_count": 11,
   "id": "5ef8f238-d540-4a26-b1d5-f988c2a77796",
   "metadata": {
    "tags": []
   },
   "outputs": [
    {
     "data": {
      "text/html": [
       "<div>\n",
       "<style scoped>\n",
       "    .dataframe tbody tr th:only-of-type {\n",
       "        vertical-align: middle;\n",
       "    }\n",
       "\n",
       "    .dataframe tbody tr th {\n",
       "        vertical-align: top;\n",
       "    }\n",
       "\n",
       "    .dataframe thead th {\n",
       "        text-align: right;\n",
       "    }\n",
       "</style>\n",
       "<table border=\"1\" class=\"dataframe\">\n",
       "  <thead>\n",
       "    <tr style=\"text-align: right;\">\n",
       "      <th></th>\n",
       "      <th>Název RBC</th>\n",
       "    </tr>\n",
       "  </thead>\n",
       "  <tbody>\n",
       "    <tr>\n",
       "      <th>0</th>\n",
       "      <td>Uničov - Bohuňovice</td>\n",
       "    </tr>\n",
       "    <tr>\n",
       "      <th>1</th>\n",
       "      <td>Uničov - Bohuňovice</td>\n",
       "    </tr>\n",
       "    <tr>\n",
       "      <th>2</th>\n",
       "      <td>Uničov - Bohuňovice</td>\n",
       "    </tr>\n",
       "    <tr>\n",
       "      <th>3</th>\n",
       "      <td>Uničov - Bohuňovice</td>\n",
       "    </tr>\n",
       "    <tr>\n",
       "      <th>4</th>\n",
       "      <td>Uničov - Bohuňovice</td>\n",
       "    </tr>\n",
       "    <tr>\n",
       "      <th>...</th>\n",
       "      <td>...</td>\n",
       "    </tr>\n",
       "    <tr>\n",
       "      <th>9998</th>\n",
       "      <td>Uničov - Bohuňovice</td>\n",
       "    </tr>\n",
       "    <tr>\n",
       "      <th>9999</th>\n",
       "      <td>Uničov - Bohuňovice</td>\n",
       "    </tr>\n",
       "    <tr>\n",
       "      <th>10000</th>\n",
       "      <td>Uničov - Bohuňovice</td>\n",
       "    </tr>\n",
       "    <tr>\n",
       "      <th>10001</th>\n",
       "      <td>Uničov - Bohuňovice</td>\n",
       "    </tr>\n",
       "    <tr>\n",
       "      <th>10002</th>\n",
       "      <td>Uničov - Bohuňovice</td>\n",
       "    </tr>\n",
       "  </tbody>\n",
       "</table>\n",
       "<p>10003 rows × 1 columns</p>\n",
       "</div>"
      ],
      "text/plain": [
       "                  Název RBC\n",
       "0      Uničov - Bohuňovice \n",
       "1      Uničov - Bohuňovice \n",
       "2      Uničov - Bohuňovice \n",
       "3      Uničov - Bohuňovice \n",
       "4      Uničov - Bohuňovice \n",
       "...                     ...\n",
       "9998   Uničov - Bohuňovice \n",
       "9999   Uničov - Bohuňovice \n",
       "10000  Uničov - Bohuňovice \n",
       "10001  Uničov - Bohuňovice \n",
       "10002  Uničov - Bohuňovice \n",
       "\n",
       "[10003 rows x 1 columns]"
      ]
     },
     "execution_count": 11,
     "metadata": {},
     "output_type": "execute_result"
    }
   ],
   "source": [
    "rbc"
   ]
  },
  {
   "cell_type": "code",
   "execution_count": 12,
   "id": "ca1d4df7-abc9-44e6-8969-6ec86b145203",
   "metadata": {},
   "outputs": [],
   "source": [
    "stations = pd.DataFrame({\"searched\": pd.unique(rbc[RBC_NAME].str.extractall(r\"(?P<station>\\w+)\")[\"station\"])})"
   ]
  },
  {
   "cell_type": "code",
   "execution_count": 13,
   "id": "03bcbeec-70ac-4b3e-846d-dc19f044a3ae",
   "metadata": {
    "tags": []
   },
   "outputs": [
    {
     "data": {
      "text/html": [
       "<div>\n",
       "<style scoped>\n",
       "    .dataframe tbody tr th:only-of-type {\n",
       "        vertical-align: middle;\n",
       "    }\n",
       "\n",
       "    .dataframe tbody tr th {\n",
       "        vertical-align: top;\n",
       "    }\n",
       "\n",
       "    .dataframe thead th {\n",
       "        text-align: right;\n",
       "    }\n",
       "</style>\n",
       "<table border=\"1\" class=\"dataframe\">\n",
       "  <thead>\n",
       "    <tr style=\"text-align: right;\">\n",
       "      <th></th>\n",
       "      <th>searched</th>\n",
       "    </tr>\n",
       "  </thead>\n",
       "  <tbody>\n",
       "    <tr>\n",
       "      <th>0</th>\n",
       "      <td>Uničov</td>\n",
       "    </tr>\n",
       "    <tr>\n",
       "      <th>1</th>\n",
       "      <td>Bohuňovice</td>\n",
       "    </tr>\n",
       "  </tbody>\n",
       "</table>\n",
       "</div>"
      ],
      "text/plain": [
       "     searched\n",
       "0      Uničov\n",
       "1  Bohuňovice"
      ]
     },
     "execution_count": 13,
     "metadata": {},
     "output_type": "execute_result"
    }
   ],
   "source": [
    "stations"
   ]
  },
  {
   "cell_type": "code",
   "execution_count": 14,
   "id": "fa9a4052-b1b1-4726-98d1-89f4f755f654",
   "metadata": {},
   "outputs": [],
   "source": [
    "from functools import partial, reduce\n",
    "from operator import attrgetter"
   ]
  },
  {
   "cell_type": "code",
   "execution_count": 15,
   "id": "4bdcebd0-0d8a-49d1-9681-961692fc5d66",
   "metadata": {},
   "outputs": [],
   "source": [
    "stations[RESPONSES] = stations[SEARCHED].apply(partial(geolocator.geocode, exactly_one=False))"
   ]
  },
  {
   "cell_type": "code",
   "execution_count": 16,
   "id": "b3ae534d-e448-46c3-a660-67e8df46640a",
   "metadata": {
    "tags": []
   },
   "outputs": [
    {
     "data": {
      "text/html": [
       "<div>\n",
       "<style scoped>\n",
       "    .dataframe tbody tr th:only-of-type {\n",
       "        vertical-align: middle;\n",
       "    }\n",
       "\n",
       "    .dataframe tbody tr th {\n",
       "        vertical-align: top;\n",
       "    }\n",
       "\n",
       "    .dataframe thead th {\n",
       "        text-align: right;\n",
       "    }\n",
       "</style>\n",
       "<table border=\"1\" class=\"dataframe\">\n",
       "  <thead>\n",
       "    <tr style=\"text-align: right;\">\n",
       "      <th></th>\n",
       "      <th>searched</th>\n",
       "      <th>responses</th>\n",
       "    </tr>\n",
       "  </thead>\n",
       "  <tbody>\n",
       "    <tr>\n",
       "      <th>0</th>\n",
       "      <td>Uničov</td>\n",
       "      <td>[(Uničov, okres Olomouc, Olomoucký kraj, Střed...</td>\n",
       "    </tr>\n",
       "    <tr>\n",
       "      <th>1</th>\n",
       "      <td>Bohuňovice</td>\n",
       "      <td>[(Bohuňovice, okres Svitavy, Pardubický kraj, ...</td>\n",
       "    </tr>\n",
       "  </tbody>\n",
       "</table>\n",
       "</div>"
      ],
      "text/plain": [
       "     searched                                          responses\n",
       "0      Uničov  [(Uničov, okres Olomouc, Olomoucký kraj, Střed...\n",
       "1  Bohuňovice  [(Bohuňovice, okres Svitavy, Pardubický kraj, ..."
      ]
     },
     "execution_count": 16,
     "metadata": {},
     "output_type": "execute_result"
    }
   ],
   "source": [
    "stations"
   ]
  },
  {
   "cell_type": "code",
   "execution_count": 17,
   "id": "ab2d4e6e-c343-4b69-9295-910fc132a1d0",
   "metadata": {},
   "outputs": [],
   "source": [
    "import geopandas as geo"
   ]
  },
  {
   "cell_type": "code",
   "execution_count": 18,
   "id": "7de04c31-e962-4bad-8550-8aac981dce50",
   "metadata": {},
   "outputs": [],
   "source": [
    "from map_tools import get_bounding_box"
   ]
  },
  {
   "cell_type": "code",
   "execution_count": 19,
   "id": "80b24652-8266-4671-b96f-17bc81376746",
   "metadata": {},
   "outputs": [],
   "source": [
    "gdf = geo.read_parquet(\"./geo/stations.parquet\")"
   ]
  },
  {
   "cell_type": "code",
   "execution_count": 20,
   "id": "962a7aab-947a-4567-807a-900b563b9b75",
   "metadata": {},
   "outputs": [],
   "source": [
    "x = stations.merge(gdf[[\"name\", \"geometry\"]], how=\"left\", left_on=\"searched\", right_on=\"name\")"
   ]
  },
  {
   "cell_type": "code",
   "execution_count": 21,
   "id": "ebbb85c3-0fcb-4329-8a73-8e4b6d74c10c",
   "metadata": {},
   "outputs": [],
   "source": [
    "import ipyleaflet\n",
    "from ipywidgets import HTML"
   ]
  },
  {
   "cell_type": "code",
   "execution_count": 24,
   "id": "cc7d5d7b-0039-484b-bef7-ab6665e02425",
   "metadata": {
    "tags": []
   },
   "outputs": [],
   "source": [
    "marker = ipyleaflet.Marker(location=[x.loc[1, \"geometry\"].y, x.loc[1, \"geometry\"].x], draggable=False)"
   ]
  },
  {
   "cell_type": "code",
   "execution_count": 25,
   "id": "031c63bd-30ea-4152-bf06-1f59f309fa47",
   "metadata": {},
   "outputs": [
    {
     "data": {
      "text/plain": [
       "((49.66306, 17.2810574), (49.66306, 17.2810574))"
      ]
     },
     "execution_count": 25,
     "metadata": {},
     "output_type": "execute_result"
    }
   ],
   "source": [
    "get_bounding_box([marker.location])"
   ]
  },
  {
   "cell_type": "code",
   "execution_count": 26,
   "id": "815cb2e0-01fb-41e7-aea4-d5ba807ab6e7",
   "metadata": {},
   "outputs": [],
   "source": [
    "from IPython.display import display"
   ]
  },
  {
   "cell_type": "code",
   "execution_count": 27,
   "id": "d86b893a-8a9f-4c0a-951e-86fee123d080",
   "metadata": {
    "tags": []
   },
   "outputs": [
    {
     "data": {
      "application/vnd.jupyter.widget-view+json": {
       "model_id": "74198ae926eb45d0b595f9621c62fe58",
       "version_major": 2,
       "version_minor": 0
      },
      "text/plain": [
       "Map(center=[0.0, 0.0], controls=(ZoomControl(options=['position', 'zoom_in_text', 'zoom_in_title', 'zoom_out_t…"
      ]
     },
     "metadata": {},
     "output_type": "display_data"
    }
   ],
   "source": [
    "background = ipyleaflet.TileLayer(\n",
    "    url='http://tiles.openrailwaymap.org/standard/{z}/{x}/{y}.png'\n",
    ")\n",
    "m = ipyleaflet.Map(zoom=12)\n",
    "m.add_layer(background)\n",
    "m.add_layer(marker)\n",
    "\n",
    "display(m)\n",
    "\n",
    "m.fit_bounds(get_bounding_box([marker.location]))\n"
   ]
  },
  {
   "cell_type": "code",
   "execution_count": 28,
   "id": "d9e4a297-2fd7-4249-8849-319d2f29f641",
   "metadata": {},
   "outputs": [],
   "source": [
    "stations = stations.explode(\"responses\")"
   ]
  },
  {
   "cell_type": "code",
   "execution_count": 29,
   "id": "ed797541-9071-4c16-a9df-57834eb842ac",
   "metadata": {},
   "outputs": [],
   "source": [
    "stations = stations.reset_index(drop=True)"
   ]
  },
  {
   "cell_type": "code",
   "execution_count": 30,
   "id": "66968456-e744-439f-9fd9-e38443ffda0b",
   "metadata": {},
   "outputs": [
    {
     "data": {
      "text/html": [
       "<div>\n",
       "<style scoped>\n",
       "    .dataframe tbody tr th:only-of-type {\n",
       "        vertical-align: middle;\n",
       "    }\n",
       "\n",
       "    .dataframe tbody tr th {\n",
       "        vertical-align: top;\n",
       "    }\n",
       "\n",
       "    .dataframe thead th {\n",
       "        text-align: right;\n",
       "    }\n",
       "</style>\n",
       "<table border=\"1\" class=\"dataframe\">\n",
       "  <thead>\n",
       "    <tr style=\"text-align: right;\">\n",
       "      <th></th>\n",
       "      <th>searched</th>\n",
       "      <th>responses</th>\n",
       "    </tr>\n",
       "  </thead>\n",
       "  <tbody>\n",
       "    <tr>\n",
       "      <th>0</th>\n",
       "      <td>Uničov</td>\n",
       "      <td>(Uničov, okres Olomouc, Olomoucký kraj, Středn...</td>\n",
       "    </tr>\n",
       "    <tr>\n",
       "      <th>1</th>\n",
       "      <td>Uničov</td>\n",
       "      <td>(Uničov, okres Olomouc, Olomoucký kraj, Středn...</td>\n",
       "    </tr>\n",
       "    <tr>\n",
       "      <th>2</th>\n",
       "      <td>Uničov</td>\n",
       "      <td>(Uničov, Nádražní, Uničov, Dolní Sukolom, Unič...</td>\n",
       "    </tr>\n",
       "    <tr>\n",
       "      <th>3</th>\n",
       "      <td>Uničov</td>\n",
       "      <td>(Uničov, U Oskavy, Uničov, okres Olomouc, Olom...</td>\n",
       "    </tr>\n",
       "    <tr>\n",
       "      <th>4</th>\n",
       "      <td>Uničov</td>\n",
       "      <td>(Uničov, Masarykovo nám., Uničov, okres Olomou...</td>\n",
       "    </tr>\n",
       "    <tr>\n",
       "      <th>5</th>\n",
       "      <td>Uničov</td>\n",
       "      <td>(Uničov, Pod Šibeníkem, Uničov, okres Olomouc,...</td>\n",
       "    </tr>\n",
       "    <tr>\n",
       "      <th>6</th>\n",
       "      <td>Uničov</td>\n",
       "      <td>(Uničov, hřbitov, Litovelská, Uničov, okres Ol...</td>\n",
       "    </tr>\n",
       "    <tr>\n",
       "      <th>7</th>\n",
       "      <td>Uničov</td>\n",
       "      <td>(Uničov, Renoty, náves, 44621, Renoty, Uničov,...</td>\n",
       "    </tr>\n",
       "    <tr>\n",
       "      <th>8</th>\n",
       "      <td>Uničov</td>\n",
       "      <td>(Uničov, Benkov, restaurace, 4494, Benkov u St...</td>\n",
       "    </tr>\n",
       "    <tr>\n",
       "      <th>9</th>\n",
       "      <td>Uničov</td>\n",
       "      <td>(Uničov, Bezručovo náměstí, Stromořadí, Uničov...</td>\n",
       "    </tr>\n",
       "    <tr>\n",
       "      <th>10</th>\n",
       "      <td>Bohuňovice</td>\n",
       "      <td>(Bohuňovice, okres Svitavy, Pardubický kraj, S...</td>\n",
       "    </tr>\n",
       "    <tr>\n",
       "      <th>11</th>\n",
       "      <td>Bohuňovice</td>\n",
       "      <td>(Bohuňovice, okres Olomouc, Olomoucký kraj, St...</td>\n",
       "    </tr>\n",
       "    <tr>\n",
       "      <th>12</th>\n",
       "      <td>Bohuňovice</td>\n",
       "      <td>(Bohuňovice, okres Olomouc, Olomoucký kraj, St...</td>\n",
       "    </tr>\n",
       "    <tr>\n",
       "      <th>13</th>\n",
       "      <td>Bohuňovice</td>\n",
       "      <td>(Bohuňovice, U Sokolovny, Moravská Loděnice, B...</td>\n",
       "    </tr>\n",
       "    <tr>\n",
       "      <th>14</th>\n",
       "      <td>Bohuňovice</td>\n",
       "      <td>(Bohuňovice, 6. května, Bohuňovice, okres Olom...</td>\n",
       "    </tr>\n",
       "    <tr>\n",
       "      <th>15</th>\n",
       "      <td>Bohuňovice</td>\n",
       "      <td>(Eurobit, Bohuňovice, 44610, Bohuňovice, okres...</td>\n",
       "    </tr>\n",
       "  </tbody>\n",
       "</table>\n",
       "</div>"
      ],
      "text/plain": [
       "      searched                                          responses\n",
       "0       Uničov  (Uničov, okres Olomouc, Olomoucký kraj, Středn...\n",
       "1       Uničov  (Uničov, okres Olomouc, Olomoucký kraj, Středn...\n",
       "2       Uničov  (Uničov, Nádražní, Uničov, Dolní Sukolom, Unič...\n",
       "3       Uničov  (Uničov, U Oskavy, Uničov, okres Olomouc, Olom...\n",
       "4       Uničov  (Uničov, Masarykovo nám., Uničov, okres Olomou...\n",
       "5       Uničov  (Uničov, Pod Šibeníkem, Uničov, okres Olomouc,...\n",
       "6       Uničov  (Uničov, hřbitov, Litovelská, Uničov, okres Ol...\n",
       "7       Uničov  (Uničov, Renoty, náves, 44621, Renoty, Uničov,...\n",
       "8       Uničov  (Uničov, Benkov, restaurace, 4494, Benkov u St...\n",
       "9       Uničov  (Uničov, Bezručovo náměstí, Stromořadí, Uničov...\n",
       "10  Bohuňovice  (Bohuňovice, okres Svitavy, Pardubický kraj, S...\n",
       "11  Bohuňovice  (Bohuňovice, okres Olomouc, Olomoucký kraj, St...\n",
       "12  Bohuňovice  (Bohuňovice, okres Olomouc, Olomoucký kraj, St...\n",
       "13  Bohuňovice  (Bohuňovice, U Sokolovny, Moravská Loděnice, B...\n",
       "14  Bohuňovice  (Bohuňovice, 6. května, Bohuňovice, okres Olom...\n",
       "15  Bohuňovice  (Eurobit, Bohuňovice, 44610, Bohuňovice, okres..."
      ]
     },
     "execution_count": 30,
     "metadata": {},
     "output_type": "execute_result"
    }
   ],
   "source": [
    "stations"
   ]
  },
  {
   "cell_type": "code",
   "execution_count": 31,
   "id": "f813eff2-5cc1-4713-b39d-bbfdf8155f95",
   "metadata": {
    "tags": []
   },
   "outputs": [],
   "source": [
    "stations = stations.join(stations[RESPONSES].apply(lambda row: pd.Series(row.raw)))"
   ]
  },
  {
   "cell_type": "code",
   "execution_count": 32,
   "id": "13e2a533-604f-44f4-abcb-1ecac37e5d0f",
   "metadata": {},
   "outputs": [],
   "source": [
    "stations = stations.drop(RESPONSES, axis=\"columns\")"
   ]
  },
  {
   "cell_type": "code",
   "execution_count": 33,
   "id": "326d508f-c564-42dc-9fde-dede61240773",
   "metadata": {},
   "outputs": [],
   "source": [
    "stations.loc[stations[\"class\"] == \"railway\", \"importance\"] += 1"
   ]
  },
  {
   "cell_type": "code",
   "execution_count": 34,
   "id": "f97ef701-4ec2-4e28-80f1-606fbdcd725d",
   "metadata": {},
   "outputs": [],
   "source": [
    "gdf = gdf.drop(gdf.columns[gdf.columns.str.contains(\"name:\")], axis=\"columns\")"
   ]
  },
  {
   "cell_type": "code",
   "execution_count": 35,
   "id": "f39b259a-6ee8-40f4-ba93-3698cbdec1ee",
   "metadata": {
    "tags": []
   },
   "outputs": [],
   "source": [
    "stations = stations.drop([\"place_id\", \"licence\", \"osm_id\"], axis=\"columns\")"
   ]
  },
  {
   "cell_type": "code",
   "execution_count": 37,
   "id": "76db2750-a9d3-4d88-936a-0fb9b1f4bfa6",
   "metadata": {},
   "outputs": [],
   "source": [
    "stations = pd.DataFrame({\"searched\": pd.unique(rbc[RBC_NAME].str.extractall(r\"(?P<station>\\w+)\")[\"station\"])})"
   ]
  },
  {
   "cell_type": "code",
   "execution_count": 38,
   "id": "dadba051-ad1b-4541-b189-890ef6d68b0c",
   "metadata": {},
   "outputs": [
    {
     "data": {
      "text/html": [
       "<div>\n",
       "<style scoped>\n",
       "    .dataframe tbody tr th:only-of-type {\n",
       "        vertical-align: middle;\n",
       "    }\n",
       "\n",
       "    .dataframe tbody tr th {\n",
       "        vertical-align: top;\n",
       "    }\n",
       "\n",
       "    .dataframe thead th {\n",
       "        text-align: right;\n",
       "    }\n",
       "</style>\n",
       "<table border=\"1\" class=\"dataframe\">\n",
       "  <thead>\n",
       "    <tr style=\"text-align: right;\">\n",
       "      <th></th>\n",
       "      <th>searched</th>\n",
       "    </tr>\n",
       "  </thead>\n",
       "  <tbody>\n",
       "    <tr>\n",
       "      <th>0</th>\n",
       "      <td>Uničov</td>\n",
       "    </tr>\n",
       "    <tr>\n",
       "      <th>1</th>\n",
       "      <td>Bohuňovice</td>\n",
       "    </tr>\n",
       "  </tbody>\n",
       "</table>\n",
       "</div>"
      ],
      "text/plain": [
       "     searched\n",
       "0      Uničov\n",
       "1  Bohuňovice"
      ]
     },
     "execution_count": 38,
     "metadata": {},
     "output_type": "execute_result"
    }
   ],
   "source": [
    "stations"
   ]
  },
  {
   "cell_type": "code",
   "execution_count": 39,
   "id": "0f0cb6f0-94e8-43dc-9735-74786e35ea68",
   "metadata": {},
   "outputs": [
    {
     "data": {
      "text/plain": [
       "0    POINT (17.24900 49.59888)\n",
       "dtype: geometry"
      ]
     },
     "execution_count": 39,
     "metadata": {},
     "output_type": "execute_result"
    }
   ],
   "source": [
    "gdf.loc[gdf[\"name\"].str.contains(\"Olomouc\")].dissolve().to_crs(5514).centroid.to_crs(\"WGS84\")"
   ]
  },
  {
   "cell_type": "code",
   "execution_count": 40,
   "id": "c4d7075a-db77-4480-be04-ec856566d176",
   "metadata": {},
   "outputs": [],
   "source": [
    "def get_position(row: pd.Series):\n",
    "    relevant_results: geo.GeoDataFrame = gdf.loc[gdf[\"name\"] == row[\"searched\"]]\n",
    "    if relevant_results.empty:\n",
    "        relevant_results = gdf.loc[gdf[\"name\"].str.contains(row[\"searched\"])]\n",
    "    return relevant_results.dissolve().to_crs(5514).centroid.to_crs(\"WGS84\")"
   ]
  },
  {
   "cell_type": "code",
   "execution_count": 41,
   "id": "4de0fd32-70b6-44da-a8f9-0189efea93f1",
   "metadata": {},
   "outputs": [],
   "source": [
    "def get_position_scalar(name: str):\n",
    "    relevant_results: geo.GeoDataFrame = gdf.loc[gdf[\"name\"] == name]\n",
    "    if relevant_results.empty:\n",
    "        relevant_results = gdf.loc[gdf[\"name\"].str.contains(name)]\n",
    "    return relevant_results.dissolve().to_crs(5514).centroid.to_crs(\"WGS84\")"
   ]
  },
  {
   "cell_type": "code",
   "execution_count": 42,
   "id": "3681b3b4-e3db-478f-a241-099691963d2d",
   "metadata": {},
   "outputs": [],
   "source": [
    "stations[\"location\"] = stations.apply(lambda series: gdf.loc[gdf[\"name\"].str.contains(series[\"searched\"])].dissolve().to_crs(5514).centroid.to_crs(\"WGS84\"), axis=\"columns\")"
   ]
  },
  {
   "cell_type": "code",
   "execution_count": 43,
   "id": "af444f8b-8ac2-4332-ae22-1b08ea449746",
   "metadata": {},
   "outputs": [],
   "source": [
    "stations[\"location\"] = stations.apply(get_position, axis=\"columns\")"
   ]
  },
  {
   "cell_type": "code",
   "execution_count": 44,
   "id": "9cf38685-60e0-44da-bde8-43ee7903cd95",
   "metadata": {},
   "outputs": [
    {
     "data": {
      "text/html": [
       "<div>\n",
       "<style scoped>\n",
       "    .dataframe tbody tr th:only-of-type {\n",
       "        vertical-align: middle;\n",
       "    }\n",
       "\n",
       "    .dataframe tbody tr th {\n",
       "        vertical-align: top;\n",
       "    }\n",
       "\n",
       "    .dataframe thead th {\n",
       "        text-align: right;\n",
       "    }\n",
       "</style>\n",
       "<table border=\"1\" class=\"dataframe\">\n",
       "  <thead>\n",
       "    <tr style=\"text-align: right;\">\n",
       "      <th></th>\n",
       "      <th>searched</th>\n",
       "      <th>location</th>\n",
       "    </tr>\n",
       "  </thead>\n",
       "  <tbody>\n",
       "    <tr>\n",
       "      <th>0</th>\n",
       "      <td>Uničov</td>\n",
       "      <td>POINT (17.11592 49.77922)</td>\n",
       "    </tr>\n",
       "    <tr>\n",
       "      <th>1</th>\n",
       "      <td>Bohuňovice</td>\n",
       "      <td>POINT (17.28106 49.66306)</td>\n",
       "    </tr>\n",
       "  </tbody>\n",
       "</table>\n",
       "</div>"
      ],
      "text/plain": [
       "     searched                   location\n",
       "0      Uničov  POINT (17.11592 49.77922)\n",
       "1  Bohuňovice  POINT (17.28106 49.66306)"
      ]
     },
     "execution_count": 44,
     "metadata": {},
     "output_type": "execute_result"
    }
   ],
   "source": [
    "stations"
   ]
  },
  {
   "cell_type": "code",
   "execution_count": 49,
   "id": "9fe936dd-3aff-49b6-b7c1-23c86cd62fbd",
   "metadata": {},
   "outputs": [],
   "source": [
    "# stations[\"position\"] = stations[\"location\"].apply(get_position_scalar)"
   ]
  },
  {
   "cell_type": "code",
   "execution_count": 50,
   "id": "a71889e4-5e1d-49a9-a4e6-0b19616f4750",
   "metadata": {},
   "outputs": [
    {
     "data": {
      "text/html": [
       "<div>\n",
       "<style scoped>\n",
       "    .dataframe tbody tr th:only-of-type {\n",
       "        vertical-align: middle;\n",
       "    }\n",
       "\n",
       "    .dataframe tbody tr th {\n",
       "        vertical-align: top;\n",
       "    }\n",
       "\n",
       "    .dataframe thead th {\n",
       "        text-align: right;\n",
       "    }\n",
       "</style>\n",
       "<table border=\"1\" class=\"dataframe\">\n",
       "  <thead>\n",
       "    <tr style=\"text-align: right;\">\n",
       "      <th></th>\n",
       "      <th>searched</th>\n",
       "      <th>location</th>\n",
       "    </tr>\n",
       "  </thead>\n",
       "  <tbody>\n",
       "    <tr>\n",
       "      <th>0</th>\n",
       "      <td>Uničov</td>\n",
       "      <td>POINT (17.11592 49.77922)</td>\n",
       "    </tr>\n",
       "    <tr>\n",
       "      <th>1</th>\n",
       "      <td>Bohuňovice</td>\n",
       "      <td>POINT (17.28106 49.66306)</td>\n",
       "    </tr>\n",
       "  </tbody>\n",
       "</table>\n",
       "</div>"
      ],
      "text/plain": [
       "     searched                   location\n",
       "0      Uničov  POINT (17.11592 49.77922)\n",
       "1  Bohuňovice  POINT (17.28106 49.66306)"
      ]
     },
     "execution_count": 50,
     "metadata": {},
     "output_type": "execute_result"
    }
   ],
   "source": [
    "stations"
   ]
  },
  {
   "cell_type": "code",
   "execution_count": 51,
   "id": "2b7ebfb3-e4c4-4a7e-8aeb-f174cf0d4ed6",
   "metadata": {},
   "outputs": [
    {
     "data": {
      "text/html": [
       "<div style=\"width:100%;\"><div style=\"position:relative;width:100%;height:0;padding-bottom:60%;\"><span style=\"color:#565656\">Make this Notebook Trusted to load map: File -> Trust Notebook</span><iframe srcdoc=\"&lt;!DOCTYPE html&gt;\n",
       "&lt;html&gt;\n",
       "&lt;head&gt;\n",
       "    \n",
       "    &lt;meta http-equiv=&quot;content-type&quot; content=&quot;text/html; charset=UTF-8&quot; /&gt;\n",
       "    \n",
       "        &lt;script&gt;\n",
       "            L_NO_TOUCH = false;\n",
       "            L_DISABLE_3D = false;\n",
       "        &lt;/script&gt;\n",
       "    \n",
       "    &lt;style&gt;html, body {width: 100%;height: 100%;margin: 0;padding: 0;}&lt;/style&gt;\n",
       "    &lt;style&gt;#map {position:absolute;top:0;bottom:0;right:0;left:0;}&lt;/style&gt;\n",
       "    &lt;script src=&quot;https://cdn.jsdelivr.net/npm/leaflet@1.9.3/dist/leaflet.js&quot;&gt;&lt;/script&gt;\n",
       "    &lt;script src=&quot;https://code.jquery.com/jquery-1.12.4.min.js&quot;&gt;&lt;/script&gt;\n",
       "    &lt;script src=&quot;https://cdn.jsdelivr.net/npm/bootstrap@5.2.2/dist/js/bootstrap.bundle.min.js&quot;&gt;&lt;/script&gt;\n",
       "    &lt;script src=&quot;https://cdnjs.cloudflare.com/ajax/libs/Leaflet.awesome-markers/2.0.2/leaflet.awesome-markers.js&quot;&gt;&lt;/script&gt;\n",
       "    &lt;link rel=&quot;stylesheet&quot; href=&quot;https://cdn.jsdelivr.net/npm/leaflet@1.9.3/dist/leaflet.css&quot;/&gt;\n",
       "    &lt;link rel=&quot;stylesheet&quot; href=&quot;https://cdn.jsdelivr.net/npm/bootstrap@5.2.2/dist/css/bootstrap.min.css&quot;/&gt;\n",
       "    &lt;link rel=&quot;stylesheet&quot; href=&quot;https://netdna.bootstrapcdn.com/bootstrap/3.0.0/css/bootstrap.min.css&quot;/&gt;\n",
       "    &lt;link rel=&quot;stylesheet&quot; href=&quot;https://cdn.jsdelivr.net/npm/@fortawesome/fontawesome-free@6.2.0/css/all.min.css&quot;/&gt;\n",
       "    &lt;link rel=&quot;stylesheet&quot; href=&quot;https://cdnjs.cloudflare.com/ajax/libs/Leaflet.awesome-markers/2.0.2/leaflet.awesome-markers.css&quot;/&gt;\n",
       "    &lt;link rel=&quot;stylesheet&quot; href=&quot;https://cdn.jsdelivr.net/gh/python-visualization/folium/folium/templates/leaflet.awesome.rotate.min.css&quot;/&gt;\n",
       "    \n",
       "            &lt;meta name=&quot;viewport&quot; content=&quot;width=device-width,\n",
       "                initial-scale=1.0, maximum-scale=1.0, user-scalable=no&quot; /&gt;\n",
       "            &lt;style&gt;\n",
       "                #map_67540b742b97fcb8f30c4b3823cc2107 {\n",
       "                    position: relative;\n",
       "                    width: 100.0%;\n",
       "                    height: 100.0%;\n",
       "                    left: 0.0%;\n",
       "                    top: 0.0%;\n",
       "                }\n",
       "                .leaflet-container { font-size: 1rem; }\n",
       "            &lt;/style&gt;\n",
       "        \n",
       "    \n",
       "                    &lt;style&gt;\n",
       "                        .foliumtooltip {\n",
       "                            \n",
       "                        }\n",
       "                       .foliumtooltip table{\n",
       "                            margin: auto;\n",
       "                        }\n",
       "                        .foliumtooltip tr{\n",
       "                            text-align: left;\n",
       "                        }\n",
       "                        .foliumtooltip th{\n",
       "                            padding: 2px; padding-right: 8px;\n",
       "                        }\n",
       "                    &lt;/style&gt;\n",
       "            \n",
       "&lt;/head&gt;\n",
       "&lt;body&gt;\n",
       "    \n",
       "    \n",
       "            &lt;div class=&quot;folium-map&quot; id=&quot;map_67540b742b97fcb8f30c4b3823cc2107&quot; &gt;&lt;/div&gt;\n",
       "        \n",
       "&lt;/body&gt;\n",
       "&lt;script&gt;\n",
       "    \n",
       "    \n",
       "            var map_67540b742b97fcb8f30c4b3823cc2107 = L.map(\n",
       "                &quot;map_67540b742b97fcb8f30c4b3823cc2107&quot;,\n",
       "                {\n",
       "                    center: [49.721138309888545, 17.198489658342098],\n",
       "                    crs: L.CRS.EPSG3857,\n",
       "                    zoom: 10,\n",
       "                    zoomControl: true,\n",
       "                    preferCanvas: false,\n",
       "                }\n",
       "            );\n",
       "            L.control.scale().addTo(map_67540b742b97fcb8f30c4b3823cc2107);\n",
       "\n",
       "            \n",
       "\n",
       "        \n",
       "    \n",
       "            var tile_layer_bc6e2ab6060a7cdca58c5e98b45135cd = L.tileLayer(\n",
       "                &quot;https://{s}.tile.openstreetmap.org/{z}/{x}/{y}.png&quot;,\n",
       "                {&quot;attribution&quot;: &quot;Data by \\u0026copy; \\u003ca target=\\&quot;_blank\\&quot; href=\\&quot;http://openstreetmap.org\\&quot;\\u003eOpenStreetMap\\u003c/a\\u003e, under \\u003ca target=\\&quot;_blank\\&quot; href=\\&quot;http://www.openstreetmap.org/copyright\\&quot;\\u003eODbL\\u003c/a\\u003e.&quot;, &quot;detectRetina&quot;: false, &quot;maxNativeZoom&quot;: 18, &quot;maxZoom&quot;: 18, &quot;minZoom&quot;: 0, &quot;noWrap&quot;: false, &quot;opacity&quot;: 1, &quot;subdomains&quot;: &quot;abc&quot;, &quot;tms&quot;: false}\n",
       "            ).addTo(map_67540b742b97fcb8f30c4b3823cc2107);\n",
       "        \n",
       "    \n",
       "            map_67540b742b97fcb8f30c4b3823cc2107.fitBounds(\n",
       "                [[49.663060009762034, 17.115921908161063], [49.77921661001506, 17.281057408523132]],\n",
       "                {}\n",
       "            );\n",
       "        \n",
       "    \n",
       "        function geo_json_58dbf228901da6a935bf6ee77fa04883_styler(feature) {\n",
       "            switch(feature.id) {\n",
       "                default:\n",
       "                    return {&quot;fillOpacity&quot;: 0.5, &quot;weight&quot;: 2};\n",
       "            }\n",
       "        }\n",
       "        function geo_json_58dbf228901da6a935bf6ee77fa04883_highlighter(feature) {\n",
       "            switch(feature.id) {\n",
       "                default:\n",
       "                    return {&quot;fillOpacity&quot;: 0.75};\n",
       "            }\n",
       "        }\n",
       "        function geo_json_58dbf228901da6a935bf6ee77fa04883_pointToLayer(feature, latlng) {\n",
       "            var opts = {&quot;bubblingMouseEvents&quot;: true, &quot;color&quot;: &quot;#3388ff&quot;, &quot;dashArray&quot;: null, &quot;dashOffset&quot;: null, &quot;fill&quot;: true, &quot;fillColor&quot;: &quot;#3388ff&quot;, &quot;fillOpacity&quot;: 0.2, &quot;fillRule&quot;: &quot;evenodd&quot;, &quot;lineCap&quot;: &quot;round&quot;, &quot;lineJoin&quot;: &quot;round&quot;, &quot;opacity&quot;: 1.0, &quot;radius&quot;: 2, &quot;stroke&quot;: true, &quot;weight&quot;: 3};\n",
       "            \n",
       "            let style = geo_json_58dbf228901da6a935bf6ee77fa04883_styler(feature)\n",
       "            Object.assign(opts, style)\n",
       "            \n",
       "            return new L.CircleMarker(latlng, opts)\n",
       "        }\n",
       "\n",
       "        function geo_json_58dbf228901da6a935bf6ee77fa04883_onEachFeature(feature, layer) {\n",
       "            layer.on({\n",
       "                mouseout: function(e) {\n",
       "                    if(typeof e.target.setStyle === &quot;function&quot;){\n",
       "                        geo_json_58dbf228901da6a935bf6ee77fa04883.resetStyle(e.target);\n",
       "                    }\n",
       "                },\n",
       "                mouseover: function(e) {\n",
       "                    if(typeof e.target.setStyle === &quot;function&quot;){\n",
       "                        const highlightStyle = geo_json_58dbf228901da6a935bf6ee77fa04883_highlighter(e.target.feature)\n",
       "                        e.target.setStyle(highlightStyle);\n",
       "                    }\n",
       "                },\n",
       "            });\n",
       "        };\n",
       "        var geo_json_58dbf228901da6a935bf6ee77fa04883 = L.geoJson(null, {\n",
       "                onEachFeature: geo_json_58dbf228901da6a935bf6ee77fa04883_onEachFeature,\n",
       "            \n",
       "                style: geo_json_58dbf228901da6a935bf6ee77fa04883_styler,\n",
       "                pointToLayer: geo_json_58dbf228901da6a935bf6ee77fa04883_pointToLayer\n",
       "        });\n",
       "\n",
       "        function geo_json_58dbf228901da6a935bf6ee77fa04883_add (data) {\n",
       "            geo_json_58dbf228901da6a935bf6ee77fa04883\n",
       "                .addData(data)\n",
       "                .addTo(map_67540b742b97fcb8f30c4b3823cc2107);\n",
       "        }\n",
       "            geo_json_58dbf228901da6a935bf6ee77fa04883_add({&quot;bbox&quot;: [17.115921908161063, 49.663060009762034, 17.281057408523132, 49.77921661001506], &quot;features&quot;: [{&quot;bbox&quot;: [17.115921908161063, 49.77921661001506, 17.115921908161063, 49.77921661001506], &quot;geometry&quot;: {&quot;coordinates&quot;: [17.115921908161063, 49.77921661001506], &quot;type&quot;: &quot;Point&quot;}, &quot;id&quot;: &quot;0&quot;, &quot;properties&quot;: {&quot;searched&quot;: &quot;Uni\\u010dov&quot;}, &quot;type&quot;: &quot;Feature&quot;}, {&quot;bbox&quot;: [17.281057408523132, 49.663060009762034, 17.281057408523132, 49.663060009762034], &quot;geometry&quot;: {&quot;coordinates&quot;: [17.281057408523132, 49.663060009762034], &quot;type&quot;: &quot;Point&quot;}, &quot;id&quot;: &quot;1&quot;, &quot;properties&quot;: {&quot;searched&quot;: &quot;Bohu\\u0148ovice&quot;}, &quot;type&quot;: &quot;Feature&quot;}], &quot;type&quot;: &quot;FeatureCollection&quot;});\n",
       "\n",
       "        \n",
       "    \n",
       "    geo_json_58dbf228901da6a935bf6ee77fa04883.bindTooltip(\n",
       "    function(layer){\n",
       "    let div = L.DomUtil.create(&#x27;div&#x27;);\n",
       "    \n",
       "    let handleObject = feature=&gt;typeof(feature)==&#x27;object&#x27; ? JSON.stringify(feature) : feature;\n",
       "    let fields = [&quot;searched&quot;];\n",
       "    let aliases = [&quot;searched&quot;];\n",
       "    let table = &#x27;&lt;table&gt;&#x27; +\n",
       "        String(\n",
       "        fields.map(\n",
       "        (v,i)=&gt;\n",
       "        `&lt;tr&gt;\n",
       "            &lt;th&gt;${aliases[i]}&lt;/th&gt;\n",
       "            \n",
       "            &lt;td&gt;${handleObject(layer.feature.properties[v])}&lt;/td&gt;\n",
       "        &lt;/tr&gt;`).join(&#x27;&#x27;))\n",
       "    +&#x27;&lt;/table&gt;&#x27;;\n",
       "    div.innerHTML=table;\n",
       "    \n",
       "    return div\n",
       "    }\n",
       "    ,{&quot;className&quot;: &quot;foliumtooltip&quot;, &quot;sticky&quot;: true});\n",
       "                     \n",
       "&lt;/script&gt;\n",
       "&lt;/html&gt;\" style=\"position:absolute;width:100%;height:100%;left:0;top:0;border:none !important;\" allowfullscreen webkitallowfullscreen mozallowfullscreen></iframe></div></div>"
      ],
      "text/plain": [
       "<folium.folium.Map at 0x7f1fe80c1300>"
      ]
     },
     "execution_count": 51,
     "metadata": {},
     "output_type": "execute_result"
    }
   ],
   "source": [
    "geo.GeoDataFrame(stations).set_geometry(\"location\").set_crs(\"WGS84\").explore()"
   ]
  },
  {
   "cell_type": "code",
   "execution_count": 52,
   "id": "025919c7-8e20-4cce-a438-6a8244e9e96b",
   "metadata": {},
   "outputs": [],
   "source": [
    "from map_tools import get_marker_cluster, get_map"
   ]
  },
  {
   "cell_type": "code",
   "execution_count": 57,
   "id": "06299378-d72a-42a6-b50e-7e41c8ea2ae0",
   "metadata": {},
   "outputs": [],
   "source": [
    "event_details = parse_events(data[EVENT])"
   ]
  },
  {
   "cell_type": "code",
   "execution_count": 56,
   "id": "d44e9d39-aa95-4ac5-963d-f2c9fea62400",
   "metadata": {},
   "outputs": [
    {
     "data": {
      "text/html": [
       "<div>\n",
       "<style scoped>\n",
       "    .dataframe tbody tr th:only-of-type {\n",
       "        vertical-align: middle;\n",
       "    }\n",
       "\n",
       "    .dataframe tbody tr th {\n",
       "        vertical-align: top;\n",
       "    }\n",
       "\n",
       "    .dataframe thead th {\n",
       "        text-align: right;\n",
       "    }\n",
       "</style>\n",
       "<table border=\"1\" class=\"dataframe\">\n",
       "  <thead>\n",
       "    <tr style=\"text-align: right;\">\n",
       "      <th></th>\n",
       "      <th>Čas</th>\n",
       "      <th>Název DLS</th>\n",
       "      <th>Událost</th>\n",
       "      <th>OBU ETCS ID</th>\n",
       "      <th>Číslo vlaku</th>\n",
       "      <th>Délka [m]</th>\n",
       "      <th>Max. rychlost [km/h]</th>\n",
       "      <th>Nápravový tlak [t]</th>\n",
       "      <th>Povel stůj</th>\n",
       "      <th>Druh trakce</th>\n",
       "      <th>Druh vlaku</th>\n",
       "    </tr>\n",
       "  </thead>\n",
       "  <tbody>\n",
       "    <tr>\n",
       "      <th>0</th>\n",
       "      <td>2023-01-01 05:59:34</td>\n",
       "      <td>ETCS Olomouc - Uničov</td>\n",
       "      <td>RBC 101 Uničov - Bohuňovice - 94361: vznik vla...</td>\n",
       "      <td>94361</td>\n",
       "      <td>3625</td>\n",
       "      <td>53</td>\n",
       "      <td>160</td>\n",
       "      <td>18</td>\n",
       "      <td>NaN</td>\n",
       "      <td>NaN</td>\n",
       "      <td>osobní</td>\n",
       "    </tr>\n",
       "    <tr>\n",
       "      <th>1</th>\n",
       "      <td>2023-01-01 05:59:50</td>\n",
       "      <td>ETCS Olomouc - Uničov</td>\n",
       "      <td>RBC 101 Uničov - Bohuňovice - 94361: vlak 3625...</td>\n",
       "      <td>94361</td>\n",
       "      <td>3625</td>\n",
       "      <td>53</td>\n",
       "      <td>160</td>\n",
       "      <td>18</td>\n",
       "      <td>NaN</td>\n",
       "      <td>NaN</td>\n",
       "      <td>osobní</td>\n",
       "    </tr>\n",
       "    <tr>\n",
       "      <th>2</th>\n",
       "      <td>2023-01-01 06:17:49</td>\n",
       "      <td>ETCS Olomouc - Uničov</td>\n",
       "      <td>RBC 101 Uničov - Bohuňovice - 94359: vznik vlaku</td>\n",
       "      <td>94359</td>\n",
       "      <td>&lt;NA&gt;</td>\n",
       "      <td>&lt;NA&gt;</td>\n",
       "      <td>&lt;NA&gt;</td>\n",
       "      <td>&lt;NA&gt;</td>\n",
       "      <td>NaN</td>\n",
       "      <td>NaN</td>\n",
       "      <td>NaN</td>\n",
       "    </tr>\n",
       "    <tr>\n",
       "      <th>3</th>\n",
       "      <td>2023-01-01 06:17:53</td>\n",
       "      <td>ETCS Olomouc - Uničov</td>\n",
       "      <td>RBC 101 Uničov - Bohuňovice - 94359: vlak 3624...</td>\n",
       "      <td>94359</td>\n",
       "      <td>3624</td>\n",
       "      <td>53</td>\n",
       "      <td>160</td>\n",
       "      <td>18</td>\n",
       "      <td>NaN</td>\n",
       "      <td>NaN</td>\n",
       "      <td>osobní</td>\n",
       "    </tr>\n",
       "    <tr>\n",
       "      <th>4</th>\n",
       "      <td>2023-01-01 06:18:58</td>\n",
       "      <td>ETCS Olomouc - Uničov</td>\n",
       "      <td>RBC 101 Uničov - Bohuňovice - 94359: vlak 3624...</td>\n",
       "      <td>94359</td>\n",
       "      <td>3624</td>\n",
       "      <td>53</td>\n",
       "      <td>160</td>\n",
       "      <td>18</td>\n",
       "      <td>NaN</td>\n",
       "      <td>NaN</td>\n",
       "      <td>osobní</td>\n",
       "    </tr>\n",
       "    <tr>\n",
       "      <th>...</th>\n",
       "      <td>...</td>\n",
       "      <td>...</td>\n",
       "      <td>...</td>\n",
       "      <td>...</td>\n",
       "      <td>...</td>\n",
       "      <td>...</td>\n",
       "      <td>...</td>\n",
       "      <td>...</td>\n",
       "      <td>...</td>\n",
       "      <td>...</td>\n",
       "      <td>...</td>\n",
       "    </tr>\n",
       "    <tr>\n",
       "      <th>9998</th>\n",
       "      <td>2023-01-27 10:07:35</td>\n",
       "      <td>ETCS Olomouc - Uničov</td>\n",
       "      <td>RBC 101 Uničov - Bohuňovice - 94361: zánik vlaku</td>\n",
       "      <td>94361</td>\n",
       "      <td>&lt;NA&gt;</td>\n",
       "      <td>&lt;NA&gt;</td>\n",
       "      <td>&lt;NA&gt;</td>\n",
       "      <td>&lt;NA&gt;</td>\n",
       "      <td>NaN</td>\n",
       "      <td>NaN</td>\n",
       "      <td>NaN</td>\n",
       "    </tr>\n",
       "    <tr>\n",
       "      <th>9999</th>\n",
       "      <td>2023-01-27 10:17:01</td>\n",
       "      <td>ETCS Olomouc - Uničov</td>\n",
       "      <td>RBC 101 Uničov - Bohuňovice - 94360: vlak 3631...</td>\n",
       "      <td>94360</td>\n",
       "      <td>3631</td>\n",
       "      <td>53</td>\n",
       "      <td>160</td>\n",
       "      <td>18</td>\n",
       "      <td>NaN</td>\n",
       "      <td>NaN</td>\n",
       "      <td>osobní</td>\n",
       "    </tr>\n",
       "    <tr>\n",
       "      <th>10000</th>\n",
       "      <td>2023-01-27 10:17:01</td>\n",
       "      <td>ETCS Olomouc - Uničov</td>\n",
       "      <td>RBC 101 Uničov - Bohuňovice - 94360: zánik vla...</td>\n",
       "      <td>94360</td>\n",
       "      <td>3631</td>\n",
       "      <td>&lt;NA&gt;</td>\n",
       "      <td>&lt;NA&gt;</td>\n",
       "      <td>&lt;NA&gt;</td>\n",
       "      <td>NaN</td>\n",
       "      <td>NaN</td>\n",
       "      <td>NaN</td>\n",
       "    </tr>\n",
       "    <tr>\n",
       "      <th>10001</th>\n",
       "      <td>2023-01-27 10:41:05</td>\n",
       "      <td>ETCS Olomouc - Uničov</td>\n",
       "      <td>RBC 101 Uničov - Bohuňovice - 94361: vznik vla...</td>\n",
       "      <td>94361</td>\n",
       "      <td>13707</td>\n",
       "      <td>53</td>\n",
       "      <td>160</td>\n",
       "      <td>18</td>\n",
       "      <td>NaN</td>\n",
       "      <td>NaN</td>\n",
       "      <td>osobní</td>\n",
       "    </tr>\n",
       "    <tr>\n",
       "      <th>10002</th>\n",
       "      <td>2023-01-27 10:46:09</td>\n",
       "      <td>ETCS Olomouc - Uničov</td>\n",
       "      <td>RBC 101 Uničov - Bohuňovice - 94361: vlak 1370...</td>\n",
       "      <td>94361</td>\n",
       "      <td>13707</td>\n",
       "      <td>53</td>\n",
       "      <td>160</td>\n",
       "      <td>18</td>\n",
       "      <td>NaN</td>\n",
       "      <td>NaN</td>\n",
       "      <td>osobní</td>\n",
       "    </tr>\n",
       "  </tbody>\n",
       "</table>\n",
       "<p>10003 rows × 11 columns</p>\n",
       "</div>"
      ],
      "text/plain": [
       "                      Čas              Název DLS  \\\n",
       "0     2023-01-01 05:59:34  ETCS Olomouc - Uničov   \n",
       "1     2023-01-01 05:59:50  ETCS Olomouc - Uničov   \n",
       "2     2023-01-01 06:17:49  ETCS Olomouc - Uničov   \n",
       "3     2023-01-01 06:17:53  ETCS Olomouc - Uničov   \n",
       "4     2023-01-01 06:18:58  ETCS Olomouc - Uničov   \n",
       "...                   ...                    ...   \n",
       "9998  2023-01-27 10:07:35  ETCS Olomouc - Uničov   \n",
       "9999  2023-01-27 10:17:01  ETCS Olomouc - Uničov   \n",
       "10000 2023-01-27 10:17:01  ETCS Olomouc - Uničov   \n",
       "10001 2023-01-27 10:41:05  ETCS Olomouc - Uničov   \n",
       "10002 2023-01-27 10:46:09  ETCS Olomouc - Uničov   \n",
       "\n",
       "                                                 Událost  OBU ETCS ID  \\\n",
       "0      RBC 101 Uničov - Bohuňovice - 94361: vznik vla...        94361   \n",
       "1      RBC 101 Uničov - Bohuňovice - 94361: vlak 3625...        94361   \n",
       "2       RBC 101 Uničov - Bohuňovice - 94359: vznik vlaku        94359   \n",
       "3      RBC 101 Uničov - Bohuňovice - 94359: vlak 3624...        94359   \n",
       "4      RBC 101 Uničov - Bohuňovice - 94359: vlak 3624...        94359   \n",
       "...                                                  ...          ...   \n",
       "9998    RBC 101 Uničov - Bohuňovice - 94361: zánik vlaku        94361   \n",
       "9999   RBC 101 Uničov - Bohuňovice - 94360: vlak 3631...        94360   \n",
       "10000  RBC 101 Uničov - Bohuňovice - 94360: zánik vla...        94360   \n",
       "10001  RBC 101 Uničov - Bohuňovice - 94361: vznik vla...        94361   \n",
       "10002  RBC 101 Uničov - Bohuňovice - 94361: vlak 1370...        94361   \n",
       "\n",
       "       Číslo vlaku  Délka [m]  Max. rychlost [km/h]  Nápravový tlak [t]  \\\n",
       "0             3625         53                   160                  18   \n",
       "1             3625         53                   160                  18   \n",
       "2             <NA>       <NA>                  <NA>                <NA>   \n",
       "3             3624         53                   160                  18   \n",
       "4             3624         53                   160                  18   \n",
       "...            ...        ...                   ...                 ...   \n",
       "9998          <NA>       <NA>                  <NA>                <NA>   \n",
       "9999          3631         53                   160                  18   \n",
       "10000         3631       <NA>                  <NA>                <NA>   \n",
       "10001        13707         53                   160                  18   \n",
       "10002        13707         53                   160                  18   \n",
       "\n",
       "       Povel stůj  Druh trakce Druh vlaku  \n",
       "0             NaN          NaN     osobní  \n",
       "1             NaN          NaN     osobní  \n",
       "2             NaN          NaN        NaN  \n",
       "3             NaN          NaN     osobní  \n",
       "4             NaN          NaN     osobní  \n",
       "...           ...          ...        ...  \n",
       "9998          NaN          NaN        NaN  \n",
       "9999          NaN          NaN     osobní  \n",
       "10000         NaN          NaN        NaN  \n",
       "10001         NaN          NaN     osobní  \n",
       "10002         NaN          NaN     osobní  \n",
       "\n",
       "[10003 rows x 11 columns]"
      ]
     },
     "execution_count": 56,
     "metadata": {},
     "output_type": "execute_result"
    }
   ],
   "source": [
    "data"
   ]
  },
  {
   "cell_type": "code",
   "execution_count": 58,
   "id": "e32916ad-64c4-4895-984c-56e34fd69b96",
   "metadata": {},
   "outputs": [],
   "source": [
    "event_details = parse_events(data[EVENT])\n",
    "data = data.drop([EVENT, OBU], axis=\"columns\")\n",
    "data = data.join(event_details)"
   ]
  },
  {
   "cell_type": "code",
   "execution_count": 19,
   "id": "cc917747-6d77-4ac4-a105-c405ffdb27b6",
   "metadata": {},
   "outputs": [],
   "source": [
    "from ipywidgets import DatePicker"
   ]
  },
  {
   "cell_type": "code",
   "execution_count": 20,
   "id": "044f7abd-c03a-43cf-8ba2-5129624b9bff",
   "metadata": {},
   "outputs": [
    {
     "data": {
      "application/vnd.jupyter.widget-view+json": {
       "model_id": "b14a7a8f97784dceb0d844e704f87b84",
       "version_major": 2,
       "version_minor": 0
      },
      "text/plain": [
       "DatePicker(value=None, step=1)"
      ]
     },
     "execution_count": 20,
     "metadata": {},
     "output_type": "execute_result"
    }
   ],
   "source": [
    "DatePicker()"
   ]
  },
  {
   "cell_type": "code",
   "execution_count": 22,
   "id": "3b7eb266-6222-418a-8777-29f88ce97e90",
   "metadata": {},
   "outputs": [],
   "source": [
    "import ipydatetime"
   ]
  },
  {
   "cell_type": "code",
   "execution_count": 25,
   "id": "2fabaf08-7f46-48e2-b3d8-8aa954c212d2",
   "metadata": {},
   "outputs": [
    {
     "data": {
      "application/vnd.jupyter.widget-view+json": {
       "model_id": "9c239876ff8144b3936b135adef178ba",
       "version_major": 2,
       "version_minor": 0
      },
      "text/plain": [
       "DatetimePicker(value=None)"
      ]
     },
     "execution_count": 25,
     "metadata": {},
     "output_type": "execute_result"
    }
   ],
   "source": [
    "datetime_picker = ipydatetime.DatetimePicker()\n",
    "datetime_picker"
   ]
  }
 ],
 "metadata": {
  "kernelspec": {
   "display_name": "Python 3 (ipykernel)",
   "language": "python",
   "name": "python3"
  },
  "language_info": {
   "codemirror_mode": {
    "name": "ipython",
    "version": 3
   },
   "file_extension": ".py",
   "mimetype": "text/x-python",
   "name": "python",
   "nbconvert_exporter": "python",
   "pygments_lexer": "ipython3",
   "version": "3.10.8"
  }
 },
 "nbformat": 4,
 "nbformat_minor": 5
}
