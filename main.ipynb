{
 "cells": [
  {
   "cell_type": "code",
   "execution_count": 1,
   "id": "1dd98b4a-fac1-4b63-bc5a-74310abed858",
   "metadata": {
    "tags": []
   },
   "outputs": [],
   "source": [
    "# JupyterLab rendering\n",
    "from IPython.display import display, clear_output, Markdown\n",
    "\n",
    "import pandas as pd\n",
    "import numpy as np\n",
    "pd.set_option('display.max_colwidth', 200)\n",
    "pd.set_option('display.max_columns', 0)\n",
    "\n",
    "import ipywidgets as widgets\n",
    "from ipyfilechooser import FileChooser\n",
    "\n",
    "import os\n",
    "\n",
    "# re-import when running import statements (load changes in imported file)\n",
    "%load_ext autoreload\n",
    "%autoreload 2\n",
    "\n",
    "%matplotlib widget"
   ]
  },
  {
   "cell_type": "code",
   "execution_count": 2,
   "id": "070dfb61-c037-4f13-9eec-0dc1d6d96655",
   "metadata": {
    "tags": []
   },
   "outputs": [],
   "source": [
    "# define constants\n",
    "from column_names import *\n",
    "from modes import *\n",
    "from errors import *\n",
    "from parameters import *"
   ]
  },
  {
   "cell_type": "code",
   "execution_count": 3,
   "id": "76e7dcdf-ce81-4321-931b-acf007318a35",
   "metadata": {
    "tags": []
   },
   "outputs": [],
   "source": [
    "from log import analyse\n",
    "from ui import render_ui"
   ]
  },
  {
   "cell_type": "code",
   "execution_count": 4,
   "id": "97299d2c-57fa-4741-bd55-dba533582554",
   "metadata": {
    "tags": []
   },
   "outputs": [
    {
     "data": {
      "text/markdown": [
       "## Analýza diagnostiky RBC"
      ],
      "text/plain": [
       "<IPython.core.display.Markdown object>"
      ]
     },
     "metadata": {},
     "output_type": "display_data"
    },
    {
     "data": {
      "text/markdown": [
       "#### Vyber soubor"
      ],
      "text/plain": [
       "<IPython.core.display.Markdown object>"
      ]
     },
     "metadata": {},
     "output_type": "display_data"
    },
    {
     "data": {
      "application/vnd.jupyter.widget-view+json": {
       "model_id": "68a434d803854e75877675fb0908102d",
       "version_major": 2,
       "version_minor": 0
      },
      "text/plain": [
       "HBox(children=(FileChooser(path='C:\\Users\\pecen\\SZ\\ERTMS ETCS team 🚂 - Dokumenty\\Diagnostika ETCS\\Poruchy\\Anal…"
      ]
     },
     "metadata": {},
     "output_type": "display_data"
    },
    {
     "data": {
      "application/vnd.jupyter.widget-view+json": {
       "model_id": "34cb064ebee240a59534e29601fa81ae",
       "version_major": 2,
       "version_minor": 0
      },
      "text/plain": [
       "Output()"
      ]
     },
     "metadata": {},
     "output_type": "display_data"
    }
   ],
   "source": [
    "file_chooser = FileChooser(\n",
    "    \"./data\",\n",
    "    filter_pattern=\"*xlsx\",\n",
    "    change_desc=\"Změnit\",\n",
    "    select_desc=\"Vybrat\"\n",
    ")\n",
    "\n",
    "output = widgets.Output()\n",
    "  \n",
    "def update(_):\n",
    "    file_name = file_chooser.selected\n",
    "    with output:\n",
    "        clear_output()\n",
    "        print(\"Working...\")\n",
    "        #data=analyse(os.path.join(\"data\", file_name))\n",
    "        data=analyse(file_name)\n",
    "        clear_output()\n",
    "        display(render_ui(file_name, data))\n",
    "\n",
    "refresh_button = widgets.Button(\n",
    "    description='Načíst',\n",
    "    tooltip='Smazat zobrazené výsledky a načíst ze souboru',\n",
    "    icon='refresh'\n",
    ")\n",
    "refresh_button.on_click(update)\n",
    "\n",
    "file_selection = widgets.HBox([\n",
    "    file_chooser,\n",
    "    refresh_button\n",
    "])\n",
    "\n",
    "display(\n",
    "    Markdown(\"## Analýza diagnostiky RBC\"),\n",
    "    Markdown(\"#### Vyber soubor\"),\n",
    "    file_selection,\n",
    "    output\n",
    ")"
   ]
  }
 ],
 "metadata": {
  "kernelspec": {
   "display_name": "rbc_log",
   "language": "python",
   "name": "rbc_log"
  },
  "language_info": {
   "codemirror_mode": {
    "name": "ipython",
    "version": 3
   },
   "file_extension": ".py",
   "mimetype": "text/x-python",
   "name": "python",
   "nbconvert_exporter": "python",
   "pygments_lexer": "ipython3",
   "version": "3.10.10"
  }
 },
 "nbformat": 4,
 "nbformat_minor": 5
}
